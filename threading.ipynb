{
 "cells": [
  {
   "cell_type": "code",
   "execution_count": 5,
   "id": "5cb9c229",
   "metadata": {},
   "outputs": [
    {
     "name": "stdout",
     "output_type": "stream",
     "text": [
      "1\n",
      "2\n",
      "3\n",
      "4\n",
      "5\n",
      "6\n",
      "7\n",
      "8\n",
      "9\n",
      "10\n",
      "11\n",
      "12\n",
      "13\n",
      "14\n",
      "15\n",
      "16\n",
      "17\n",
      "18\n",
      "19\n",
      "20\n"
     ]
    }
   ],
   "source": [
    "import threading\n",
    "import time\n",
    "\n",
    "ls = []\n",
    "\n",
    "def relogio1(n):\n",
    "    for i in range(1, n+11):\n",
    "        print(i)\n",
    "        ls.append(i)\n",
    "        time.sleep(0.5)\n",
    "        \n",
    "def relogio2(n):\n",
    "    for i in range(6, n+1):\n",
    "        print(i)\n",
    "        ls.append(i)\n",
    "        time.sleep(0.5)\n",
    "\n",
    "x = threading.Thread(target=relogio2, args=(5,))\n",
    "x.start()\n",
    "\n",
    "y = threading.Thread(target=relogio1, args=(10,))\n",
    "y.start()"
   ]
  },
  {
   "cell_type": "code",
   "execution_count": 6,
   "id": "b542390d",
   "metadata": {},
   "outputs": [
    {
     "name": "stdout",
     "output_type": "stream",
     "text": [
      "[1, 2, 3, 4, 5, 6, 7, 8, 9, 10, 11, 12, 13, 14, 15, 16, 17, 18, 19, 20]\n"
     ]
    }
   ],
   "source": [
    "print(ls)"
   ]
  },
  {
   "cell_type": "code",
   "execution_count": 17,
   "id": "6c8a7569",
   "metadata": {},
   "outputs": [
    {
     "name": "stdout",
     "output_type": "stream",
     "text": [
      "1\n",
      "2\n",
      "3\n",
      "4\n",
      "5\n",
      "6\n",
      "7\n",
      "8\n",
      "9\n",
      "10\n",
      "11\n",
      "12\n",
      "13\n",
      "14\n",
      "15\n",
      "16\n",
      "17\n",
      "18\n",
      "19\n",
      "20\n",
      "21\n",
      "22\n",
      "23\n",
      "24\n",
      "25\n",
      "26\n",
      "27\n",
      "28\n",
      "29\n",
      "30\n",
      "31\n"
     ]
    }
   ],
   "source": [
    "lista = []\n",
    "\n",
    "def relogio1(n):\n",
    "    for i in range(1, n+21):\n",
    "        print(i)\n",
    "        lista.append(i)\n",
    "        time.sleep(0.5)\n",
    "        \n",
    "\n",
    "\n",
    "a = threading.Thread(target=relogio1, args=(11,))\n",
    "a.start()\n",
    "\n"
   ]
  },
  {
   "cell_type": "code",
   "execution_count": 18,
   "id": "7bc0d945",
   "metadata": {},
   "outputs": [
    {
     "name": "stdout",
     "output_type": "stream",
     "text": [
      "1\n",
      "2\n",
      "3\n",
      "4\n",
      "5\n",
      "6\n",
      "7\n",
      "8\n",
      "9\n",
      "10\n"
     ]
    }
   ],
   "source": [
    "lista = []\n",
    "\n",
    "def relogio1(n):\n",
    "    for i in range(1, n+1):\n",
    "        print(i)\n",
    "        lista.append(i)\n",
    "        time.sleep(1.0)\n",
    "        \n",
    "\n",
    "a = threading.Thread(target=relogio1, args=(10,))\n",
    "a.start()\n"
   ]
  },
  {
   "cell_type": "code",
   "execution_count": null,
   "id": "973e2032",
   "metadata": {},
   "outputs": [],
   "source": []
  }
 ],
 "metadata": {
  "kernelspec": {
   "display_name": "Python 3",
   "language": "python",
   "name": "python3"
  },
  "language_info": {
   "codemirror_mode": {
    "name": "ipython",
    "version": 3
   },
   "file_extension": ".py",
   "mimetype": "text/x-python",
   "name": "python",
   "nbconvert_exporter": "python",
   "pygments_lexer": "ipython3",
   "version": "3.8.8"
  }
 },
 "nbformat": 4,
 "nbformat_minor": 5
}
